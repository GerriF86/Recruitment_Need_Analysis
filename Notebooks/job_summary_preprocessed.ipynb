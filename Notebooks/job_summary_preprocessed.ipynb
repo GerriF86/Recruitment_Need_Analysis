{
 "cells": [
  {
   "cell_type": "code",
   "execution_count": 2,
   "metadata": {},
   "outputs": [],
   "source": [
    "import pandas as pd"
   ]
  },
  {
   "cell_type": "code",
   "execution_count": null,
   "metadata": {},
   "outputs": [],
   "source": []
  },
  {
   "cell_type": "code",
   "execution_count": 7,
   "metadata": {},
   "outputs": [
    {
     "data": {
      "text/html": [
       "<div>\n",
       "<style scoped>\n",
       "    .dataframe tbody tr th:only-of-type {\n",
       "        vertical-align: middle;\n",
       "    }\n",
       "\n",
       "    .dataframe tbody tr th {\n",
       "        vertical-align: top;\n",
       "    }\n",
       "\n",
       "    .dataframe thead th {\n",
       "        text-align: right;\n",
       "    }\n",
       "</style>\n",
       "<table border=\"1\" class=\"dataframe\">\n",
       "  <thead>\n",
       "    <tr style=\"text-align: right;\">\n",
       "      <th></th>\n",
       "      <th>job_link</th>\n",
       "      <th>job_summary</th>\n",
       "      <th>job_summary_clean</th>\n",
       "    </tr>\n",
       "  </thead>\n",
       "  <tbody>\n",
       "    <tr>\n",
       "      <th>0</th>\n",
       "      <td>https://www.linkedin.com/jobs/view/restaurant-...</td>\n",
       "      <td>rock n roll sushi hiring restaurant manager re...</td>\n",
       "      <td>rock n roll sushi hire restaurant manager rest...</td>\n",
       "    </tr>\n",
       "    <tr>\n",
       "      <th>1</th>\n",
       "      <td>https://www.linkedin.com/jobs/view/med-surg-re...</td>\n",
       "      <td>schedule prn required minimum hour per period ...</td>\n",
       "      <td>schedule prn require minimum hour period job s...</td>\n",
       "    </tr>\n",
       "    <tr>\n",
       "      <th>2</th>\n",
       "      <td>https://www.linkedin.com/jobs/view/registered-...</td>\n",
       "      <td>description introduction looking place deliver...</td>\n",
       "      <td>description introduction look place deliver ex...</td>\n",
       "    </tr>\n",
       "    <tr>\n",
       "      <th>3</th>\n",
       "      <td>https://uk.linkedin.com/jobs/view/commercial-a...</td>\n",
       "      <td>commercial account executive sheffield full ti...</td>\n",
       "      <td>commercial account executive sheffield time pe...</td>\n",
       "    </tr>\n",
       "    <tr>\n",
       "      <th>4</th>\n",
       "      <td>https://www.linkedin.com/jobs/view/store-manag...</td>\n",
       "      <td>address usactnewington fenn road store code hu...</td>\n",
       "      <td>address usactnewington fenn road store code hu...</td>\n",
       "    </tr>\n",
       "  </tbody>\n",
       "</table>\n",
       "</div>"
      ],
      "text/plain": [
       "                                            job_link  \\\n",
       "0  https://www.linkedin.com/jobs/view/restaurant-...   \n",
       "1  https://www.linkedin.com/jobs/view/med-surg-re...   \n",
       "2  https://www.linkedin.com/jobs/view/registered-...   \n",
       "3  https://uk.linkedin.com/jobs/view/commercial-a...   \n",
       "4  https://www.linkedin.com/jobs/view/store-manag...   \n",
       "\n",
       "                                         job_summary  \\\n",
       "0  rock n roll sushi hiring restaurant manager re...   \n",
       "1  schedule prn required minimum hour per period ...   \n",
       "2  description introduction looking place deliver...   \n",
       "3  commercial account executive sheffield full ti...   \n",
       "4  address usactnewington fenn road store code hu...   \n",
       "\n",
       "                                   job_summary_clean  \n",
       "0  rock n roll sushi hire restaurant manager rest...  \n",
       "1  schedule prn require minimum hour period job s...  \n",
       "2  description introduction look place deliver ex...  \n",
       "3  commercial account executive sheffield time pe...  \n",
       "4  address usactnewington fenn road store code hu...  "
      ]
     },
     "execution_count": 7,
     "metadata": {},
     "output_type": "execute_result"
    }
   ],
   "source": [
    "df.head()"
   ]
  },
  {
   "cell_type": "code",
   "execution_count": 5,
   "metadata": {},
   "outputs": [
    {
     "name": "stdout",
     "output_type": "stream",
     "text": [
      "<class 'pandas.core.frame.DataFrame'>\n",
      "RangeIndex: 1348454 entries, 0 to 1348453\n",
      "Data columns (total 14 columns):\n",
      " #   Column               Non-Null Count    Dtype \n",
      "---  ------               --------------    ----- \n",
      " 0   job_link             1348454 non-null  object\n",
      " 1   last_processed_time  1348454 non-null  object\n",
      " 2   got_summary          1348454 non-null  object\n",
      " 3   got_ner              1348454 non-null  object\n",
      " 4   is_being_worked      1348454 non-null  object\n",
      " 5   job_title            1348454 non-null  object\n",
      " 6   company              1348443 non-null  object\n",
      " 7   job_location         1348435 non-null  object\n",
      " 8   first_seen           1348454 non-null  object\n",
      " 9   search_city          1348454 non-null  object\n",
      " 10  search_country       1348454 non-null  object\n",
      " 11  search_position      1348454 non-null  object\n",
      " 12  job_level            1348454 non-null  object\n",
      " 13  job_type             1348454 non-null  object\n",
      "dtypes: object(14)\n",
      "memory usage: 144.0+ MB\n"
     ]
    }
   ],
   "source": [
    "df.info()"
   ]
  },
  {
   "cell_type": "code",
   "execution_count": 1,
   "metadata": {},
   "outputs": [
    {
     "name": "stdout",
     "output_type": "stream",
     "text": [
      "Sample saved to data/sample_job_summary.csv (approximately 500.0 MB)\n"
     ]
    }
   ],
   "source": [
    "import pandas as pd\n",
    "import os\n",
    "\n",
    "# Correct the file paths for input and output, both within the 'data' folder\n",
    "input_file = 'data/job_summary_preprocessed.csv'  # This should be the file path as a string\n",
    "output_file = 'data/sample_job_summary.csv'\n",
    "\n",
    "# Define the approximate size limit for the sample in bytes (500MB)\n",
    "max_size = 500 * 1024 * 1024  # 500 MB in bytes\n",
    "\n",
    "# Read the large CSV in chunks and sample the data\n",
    "chunk_size = 100000  # Size of each chunk to process\n",
    "total_sample = pd.DataFrame()\n",
    "\n",
    "try:\n",
    "    for chunk in pd.read_csv(input_file, chunksize=chunk_size):\n",
    "        sample_chunk = chunk.sample(frac=0.01)  # Adjust the fraction if necessary\n",
    "        total_sample = pd.concat([total_sample, sample_chunk], ignore_index=True)\n",
    "\n",
    "        # Save the intermediate sample to CSV and check the size\n",
    "        total_sample.to_csv(output_file, index=False)\n",
    "        if os.path.getsize(output_file) >= max_size:\n",
    "            break\n",
    "\n",
    "    # Save the final sample to a CSV file in the 'data' folder\n",
    "    total_sample.to_csv(output_file, index=False)\n",
    "    print(f\"Sample saved to {output_file} (approximately {max_size / (1024 * 1024)} MB)\")\n",
    "\n",
    "except FileNotFoundError:\n",
    "    print(f\"Error: The file {input_file} does not exist. Please check the file path.\")\n",
    "\n",
    "except Exception as e:\n",
    "    print(f\"An unexpected error occurred: {e}\")\n"
   ]
  }
 ],
 "metadata": {
  "kernelspec": {
   "display_name": "Python 3",
   "language": "python",
   "name": "python3"
  },
  "language_info": {
   "codemirror_mode": {
    "name": "ipython",
    "version": 3
   },
   "file_extension": ".py",
   "mimetype": "text/x-python",
   "name": "python",
   "nbconvert_exporter": "python",
   "pygments_lexer": "ipython3",
   "version": "3.9.19"
  }
 },
 "nbformat": 4,
 "nbformat_minor": 2
}
