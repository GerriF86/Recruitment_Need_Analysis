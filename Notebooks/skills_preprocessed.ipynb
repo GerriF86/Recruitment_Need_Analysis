{
 "cells": [
  {
   "cell_type": "code",
   "execution_count": 1,
   "metadata": {},
   "outputs": [
    {
     "name": "stdout",
     "output_type": "stream",
     "text": [
      "Sample saved to data/sample_skills.csv (approximately 500.0 MB)\n"
     ]
    }
   ],
   "source": [
    "import pandas as pd\n",
    "import os\n",
    "\n",
    "# Correct the file paths for input and output, both within the 'data' folder\n",
    "input_file = 'data/skills_preprocessed.csv'  # This should be the file path as a string\n",
    "output_file = 'data/sample_skills.csv'\n",
    "\n",
    "# Define the approximate size limit for the sample in bytes (500MB)\n",
    "max_size = 500 * 1024 * 1024  # 500 MB in bytes\n",
    "\n",
    "# Read the large CSV in chunks and sample the data\n",
    "chunk_size = 100000  # Size of each chunk to process\n",
    "total_sample = pd.DataFrame()\n",
    "\n",
    "try:\n",
    "    for chunk in pd.read_csv(input_file, chunksize=chunk_size):\n",
    "        sample_chunk = chunk.sample(frac=0.01)  # Adjust the fraction if necessary\n",
    "        total_sample = pd.concat([total_sample, sample_chunk], ignore_index=True)\n",
    "\n",
    "        # Save the intermediate sample to CSV and check the size\n",
    "        total_sample.to_csv(output_file, index=False)\n",
    "        if os.path.getsize(output_file) >= max_size:\n",
    "            break\n",
    "\n",
    "    # Save the final sample to a CSV file in the 'data' folder\n",
    "    total_sample.to_csv(output_file, index=False)\n",
    "    print(f\"Sample saved to {output_file} (approximately {max_size / (1024 * 1024)} MB)\")\n",
    "\n",
    "except FileNotFoundError:\n",
    "    print(f\"Error: The file {input_file} does not exist. Please check the file path.\")\n",
    "\n",
    "except Exception as e:\n",
    "    print(f\"An unexpected error occurred: {e}\")\n"
   ]
  }
 ],
 "metadata": {
  "kernelspec": {
   "display_name": "Python 3",
   "language": "python",
   "name": "python3"
  },
  "language_info": {
   "codemirror_mode": {
    "name": "ipython",
    "version": 3
   },
   "file_extension": ".py",
   "mimetype": "text/x-python",
   "name": "python",
   "nbconvert_exporter": "python",
   "pygments_lexer": "ipython3",
   "version": "3.9.19"
  }
 },
 "nbformat": 4,
 "nbformat_minor": 2
}
