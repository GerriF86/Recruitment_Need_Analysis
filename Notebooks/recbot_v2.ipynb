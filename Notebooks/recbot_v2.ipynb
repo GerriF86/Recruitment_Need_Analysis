{
 "cells": [
  {
   "cell_type": "markdown",
   "metadata": {},
   "source": [
    "# Enhanced NLP Workbook for Recruitment Chatbot with Advanced Feature Engineering, State Machine, Sentiment Analysis, Personalization and Graph Database Integration"
   ]
  },
  {
   "cell_type": "code",
   "execution_count": null,
   "metadata": {},
   "outputs": [],
   "source": [
    "\n",
    "# Step 1: Import Libraries\n",
    "import warnings\n",
    "warnings.filterwarnings(\"ignore\")\n",
    "from langchain_groq import ChatGroq\n",
    "from langchain.prompts.prompt import PromptTemplate\n",
    "import os\n",
    "import json\n",
    "import random\n",
    "import numpy as np\n",
    "from sklearn.feature_extraction.text import CountVectorizer\n",
    "from sklearn.naive_bayes import MultinomialNB\n",
    "from dotenv import load_dotenv\n",
    "from langchain.chains import RetrievalQA\n",
    "\n",
    "\n"
   ]
  },
  {
   "cell_type": "code",
   "execution_count": null,
   "metadata": {},
   "outputs": [],
   "source": [
    "# Load environment variables (e.g., API keys for Llama RAG)\n",
    "load_dotenv()\n",
    "\n",
    "groq_api_key = os.getenv('GROQ_API_KEY')\n",
    "\n",
    "llm = ChatGroq(\n",
    "    model=\"llama3-8b-8192\",\n",
    "    temperature=0, \n",
    "    max_tokens=None,\n",
    "    timeout=None,\n",
    "    max_retries=2\n",
    ")"
   ]
  },
  {
   "cell_type": "code",
   "execution_count": 9,
   "metadata": {},
   "outputs": [],
   "source": [
    "query = \"\"\"\n",
    "    given the information {information} about a vacancy I want you to create a professional job advertisement\n",
    "    \"\"\""
   ]
  },
  {
   "cell_type": "code",
   "execution_count": 10,
   "metadata": {},
   "outputs": [],
   "source": [
    "prompt_template = PromptTemplate(\n",
    "    input_variables=[\"information\"],\n",
    "    template=query\n",
    ")"
   ]
  },
  {
   "cell_type": "markdown",
   "metadata": {},
   "source": [
    "#### define Chain"
   ]
  },
  {
   "cell_type": "markdown",
   "metadata": {},
   "source": [
    "**What is a Chain?**\n",
    "\n",
    "> - allows to link the output of one LLM call as the input of another"
   ]
  },
  {
   "cell_type": "code",
   "execution_count": 11,
   "metadata": {},
   "outputs": [],
   "source": [
    "chain = prompt_template | llm"
   ]
  },
  {
   "cell_type": "markdown",
   "metadata": {},
   "source": [
    "**Note:**\n",
    "The `|` symbol chains together the different components, feeding the output from one component as input into the next component.\n",
    "In this chain the user input is passed to the prompt template, then the prompt template output is passed to the model. "
   ]
  },
  {
   "cell_type": "markdown",
   "metadata": {},
   "source": [
    "#### invoke Chain"
   ]
  },
  {
   "cell_type": "code",
   "execution_count": 13,
   "metadata": {},
   "outputs": [],
   "source": [
    "text_data =\"\"\"\n",
    "Recruitment Conversation Summary\n",
    "\n",
    "What are the main requirements for the role?: java\n",
    "\n",
    "Work location: hybrid\n",
    "\n",
    "Days in office per week: 2\n",
    "\n",
    "Can you briefly explain what your company does?: Building awesome stuff\n",
    "\n",
    "How big is your organization (number of employees, departments, sister organizations, branches)?: 500 e,�loyees worldwide\n",
    "\n",
    "How do you differentiate yourself from other employers/competitors? Why do people work for you?: better salary\n",
    "\n",
    "What does the team look like? (average age, roles, gender ratio, freelancer vs permanent ratio): 12 developers\n",
    "\n",
    "What technologies are used in the team? What are the team responsibilities?: java docker\n",
    "\n",
    "How did this job opening come about?: maternity leave\n",
    "\n",
    "Can you describe the position? (responsibilities, typical workday, projects): build awesome stuff\n",
    "\n",
    "What are the must-have technical skills (number of years, minimum requirements - create flexibility)?: 5 years of JAVA\n",
    "\n",
    "What are the desired technical skills?: Docker\n",
    "\n",
    "What personal skills are needed? What kind of person fits into your team?: communiavtor\n",
    "\n",
    "Language requirements (create flexibility)?: german and english\n",
    "\n",
    "Education - certifications, driving license, commuting distance?: java certified\n",
    "\n",
    "Preferred previous employers or roles?: no\n",
    "\n",
    "Can you describe your ideal candidate in five words?: should develop awesome stuff regularly\n",
    "\n",
    "What do you value the most?: \n",
    "\n",
    "What is the primary salary range (minimum/maximum)? 13th-month salary, holiday pay?: 1 mio\n",
    "\n",
    "Bonus structure?: no\n",
    "\n",
    "Number of vacation days, expense reimbursements?: 50\n",
    "\n",
    "Company car/reimbursement, travel costs, parking?: no\n",
    "\n",
    "Laptop/phone, pension plan?: no\n",
    "\n",
    "Training budget, other benefits?: training budget\n",
    "\n",
    "What does the interview process look like?: 2 stages\n",
    "\n",
    "First interview: Who (name/position/role relative to the job opening, focus of the interview, questions)?: with me and HR\n",
    "\n",
    "Second interview: Who (name/position/role relative to the job opening, focus of the interview, questions)?: with me\n",
    "\"\"\""
   ]
  },
  {
   "cell_type": "code",
   "execution_count": 14,
   "metadata": {},
   "outputs": [],
   "source": [
    "output = chain.invoke(input={\"information\": text_data})"
   ]
  },
  {
   "cell_type": "code",
   "execution_count": 15,
   "metadata": {},
   "outputs": [
    {
     "name": "stdout",
     "output_type": "stream",
     "text": [
      "Here's a professional job advertisement based on the information provided:\n",
      "\n",
      "**Job Title:** Java Developer\n",
      "\n",
      "**Join our Awesome Team of 12 Developers!**\n",
      "\n",
      "We are seeking an experienced Java Developer to fill a maternity leave position in our dynamic team. As a Java Developer at our company, you will be responsible for building and maintaining our awesome stuff.\n",
      "\n",
      "**Key Responsibilities:**\n",
      "\n",
      "* Collaborate with our team to develop scalable and efficient software solutions\n",
      "* Work with Java and Docker to build innovative products\n",
      "* Participate in regular code reviews and contribute to the improvement of our coding standards\n",
      "* Develop high-quality software products that meet the requirements and expectations of our users\n",
      "\n",
      "**Requirements:**\n",
      "\n",
      "* 5 years of experience with Java programming\n",
      "* Strong understanding of Java concepts, data structures, and algorithms\n",
      "* Experience with Docker and containerization\n",
      "* Excellent communication skills (German and English languages)\n",
      "* Java certification required\n",
      "* Ability to work independently and as part of a team\n",
      "\n",
      "**What We Offer:**\n",
      "\n",
      "* A competitive salary of €1 million per year\n",
      "* 50 vacation days per year\n",
      "* Training budget for professional development\n",
      "* Opportunity to work on exciting and innovative projects\n",
      "* Hybrid work arrangement with 2 days in the office per week\n",
      "\n",
      "**What We Value:**\n",
      "\n",
      "* Passion for building great software products\n",
      "* Ability to communicate effectively and collaborate with others\n",
      "* Desire to continuously learn and improve\n",
      "* Flexibility and adaptability in a fast-paced environment\n",
      "\n",
      "**Interview Process:**\n",
      "\n",
      "* 2-stage interview process with the hiring manager and HR\n",
      "* First interview will focus on your technical skills and experience\n",
      "* Second interview will focus on your personal fit with our team and company culture\n",
      "\n",
      "**How to Apply:**\n",
      "\n",
      "If you are a motivated and experienced Java Developer looking for a new challenge, please send your resume and a brief introduction to [insert contact information]. We look forward to hearing from you!\n"
     ]
    }
   ],
   "source": [
    "print(output.content)"
   ]
  }
 ],
 "metadata": {
  "kernelspec": {
   "display_name": "capstone",
   "language": "python",
   "name": "python3"
  },
  "language_info": {
   "codemirror_mode": {
    "name": "ipython",
    "version": 3
   },
   "file_extension": ".py",
   "mimetype": "text/x-python",
   "name": "python",
   "nbconvert_exporter": "python",
   "pygments_lexer": "ipython3",
   "version": "3.10.15"
  }
 },
 "nbformat": 4,
 "nbformat_minor": 2
}
